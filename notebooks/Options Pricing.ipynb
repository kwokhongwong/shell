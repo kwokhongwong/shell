{
 "cells": [
  {
   "cell_type": "markdown",
   "id": "73572ee9",
   "metadata": {},
   "source": [
    "# Black 76 Commodity Options Pricing Example\n",
    "\n",
    "This notebook demonstrates output from a toy analytics implementation, it can be run after market data load.\n",
    "\n",
    "Here we use pricing & data endpoints available on the client proxy RestClient API - a server side REST service delegates these requests to the LocalClient API.\n",
    "\n",
    "Both RestClient & LocalClient share the same interface, so LocalClient enables local development:\n",
    "\n",
    "`from api import RestClient as c`\n",
    "\n",
    "`from api import LocalClient as c`"
   ]
  },
  {
   "cell_type": "code",
   "execution_count": 1,
   "id": "d6103f6c",
   "metadata": {},
   "outputs": [
    {
     "name": "stdout",
     "output_type": "stream",
     "text": [
      "***** Shell Trading API *****\n",
      "TRADE_DATE = 2022-12-09\n",
      "MARKET_DATE = 2022-12-09\n",
      "ROOT_PATH = C:\\Users\\magicmonk\\PycharmProjects\\shell\n",
      "MARKET_DATA_PATH = C:\\Users\\magicmonk\\PycharmProjects\\shell\\data\n",
      "REST_API_URL = http://127.0.0.1:5000\n"
     ]
    }
   ],
   "source": [
    "import datetime\n",
    "import os\n",
    "import sys\n",
    "sys.path.insert(0, os.path.abspath('../'))\n",
    "\n",
    "from api import RestClient as c"
   ]
  },
  {
   "cell_type": "markdown",
   "id": "1ce1b2e6",
   "metadata": {},
   "source": [
    "We can easily view the available endpoints using\n",
    "\n",
    "\n",
    "`c.endpoints()` and inspect each endpoint easily e.g. `c.commodity_option_price?`"
   ]
  },
  {
   "cell_type": "code",
   "execution_count": 2,
   "id": "4c35bfc0",
   "metadata": {
    "scrolled": true
   },
   "outputs": [
    {
     "data": {
      "text/plain": [
       "['commodity_option_greeks',\n",
       " 'commodity_option_price',\n",
       " 'data',\n",
       " 'endpoints',\n",
       " 'env_variables',\n",
       " 'option_greeks',\n",
       " 'option_price',\n",
       " 'save',\n",
       " 'symbols',\n",
       " 'tweak_env']"
      ]
     },
     "execution_count": 2,
     "metadata": {},
     "output_type": "execute_result"
    }
   ],
   "source": [
    "c.endpoints()"
   ]
  },
  {
   "cell_type": "markdown",
   "id": "f2e10111",
   "metadata": {},
   "source": [
    "Using `c.commodity_option_price?`, we can view the endpoint implementation details:\n",
    "\n",
    "Signature:\n",
    "c.commodity_option_price(\n",
    "    contract: str,\n",
    "    month: str,\n",
    "    year: str,\n",
    "    option_type: str,\n",
    "    strike: str,\n",
    "    exchange_code: str = None,\n",
    "    lot_price: bool = False,\n",
    ") -> float\n",
    "\n",
    "Docstring:\n",
    "Black 76 option pricer endpoint\n",
    "\n",
    "Implied volatility is calculated using the OptionWorks Futures Implied Volatility Model (IVM):\n",
    "- This assumes a volatility skew curve using a 6-degree polynomial model\n",
    "- IV = AtM + Beta1*x + Beta2*x^2 + Beta3*x^3 + Beta4*x^4 + Beta5*x^5 + Beta6*x^6 (where x is moneyness)\n",
    "- https://data.nasdaq.com/data/OWF-optionworks-futures-options/documentation\n",
    "\n",
    "Time to expiry is calculated using market data option calenders for the specific Option contract code\n",
    "\n",
    "Cost of carry is set to zero\n",
    "\n",
    "Risk free rate is weighted interpolation using Fed Reserver daily Treasury Contant Maturity Rates\n",
    "- https://support.carta.com/s/article/black-scholes\n",
    "\n",
    ":param contract: Options contract e.g. 'BRENT', 'WTI', 'HH' etc\n",
    ":param month: Expiry month e.g. 'JAN', 'FEB', 'MAR', etc\n",
    ":param year: Expiry year e.g. '2025'\n",
    ":param option_type: Use either 'c' (call) or 'p' (put)\n",
    ":param strike: Optional, defaults to ATM if not set\n",
    ":param exchange_code: Optional, e.g. 'ICE', 'NYM' etc\n",
    ":param lot_price: Optional, set to true to return the Option price * Futures lot size\n",
    ":return: Option price/premium\n",
    "File:      c:\\users\\magicmonk\\pycharmprojects\\shell\\api.py\n",
    "Type:      function"
   ]
  },
  {
   "cell_type": "code",
   "execution_count": 3,
   "id": "05327e7e",
   "metadata": {},
   "outputs": [
    {
     "data": {
      "text/plain": [
       "16386.30042160861"
      ]
     },
     "execution_count": 3,
     "metadata": {},
     "output_type": "execute_result"
    }
   ],
   "source": [
    "# BRENT Jan25 Call ATM\n",
    "\n",
    "c.commodity_option_price(\n",
    "    contract='BRENT',\n",
    "    exchange_code='ICE', # Can be removed to allow use of system default exchange code\n",
    "    month='JAN',\n",
    "    year='2025',\n",
    "    option_type='C',\n",
    "    lot_price=True # Scale the option price by the lot size (maintained as reference data per contract)\n",
    ")"
   ]
  },
  {
   "cell_type": "code",
   "execution_count": 4,
   "id": "9bab1093",
   "metadata": {},
   "outputs": [
    {
     "data": {
      "text/plain": [
       "8.652043311547885"
      ]
     },
     "execution_count": 4,
     "metadata": {},
     "output_type": "execute_result"
    }
   ],
   "source": [
    "# BRENT Jan25 Call Strike 100 USD/BBL\n",
    "c.commodity_option_price(\n",
    "    contract='BRENT',\n",
    "    exchange_code='ICE', # Can be removed to allow use of system default exchange code\n",
    "    month='JAN',\n",
    "    year='2025',\n",
    "    option_type='C',\n",
    "    strike=100,\n",
    "    lot_price=False # By default this is set to False, so can omit\n",
    ")"
   ]
  },
  {
   "cell_type": "markdown",
   "id": "5552b0d5",
   "metadata": {},
   "source": [
    "Greeks are accessed using the `commodity_option_greeks` endpoint, here we omit both exchange code (default is used) and strike (ATM is assumed)"
   ]
  },
  {
   "cell_type": "code",
   "execution_count": 5,
   "id": "b773e607",
   "metadata": {},
   "outputs": [
    {
     "data": {
      "text/plain": [
       "{'DELTA': 0.5640041477987826,\n",
       " 'GAMMA': 0.007775077334308039,\n",
       " 'THETA': -3.319508232250979,\n",
       " 'VEGA': 39.0449384605144,\n",
       " 'RHO': 55.62303880431869}"
      ]
     },
     "execution_count": 5,
     "metadata": {},
     "output_type": "execute_result"
    }
   ],
   "source": [
    "c.commodity_option_greeks(\n",
    "    contract='BRENT',\n",
    "    month='JAN',\n",
    "    year='2025',\n",
    "    option_type='C'\n",
    ")"
   ]
  },
  {
   "cell_type": "code",
   "execution_count": 6,
   "id": "43efa4cb",
   "metadata": {},
   "outputs": [
    {
     "data": {
      "text/plain": [
       "5.013212970040467"
      ]
     },
     "execution_count": 6,
     "metadata": {},
     "output_type": "execute_result"
    }
   ],
   "source": [
    "# HH Mar24 Put Strike 10 USD/MMBTu\n",
    "c.commodity_option_price(\n",
    "    contract='HH',\n",
    "    month='MAR',\n",
    "    year='2024',\n",
    "    option_type='P',\n",
    "    strike=10\n",
    ")"
   ]
  },
  {
   "cell_type": "markdown",
   "id": "0f19fd76",
   "metadata": {},
   "source": [
    "The Black 76 model extends the Generalised Black Scholes (GBS) model implementation, where we use GBS to benchmark test"
   ]
  },
  {
   "cell_type": "code",
   "execution_count": 7,
   "id": "1fe071c4",
   "metadata": {},
   "outputs": [
    {
     "data": {
      "text/plain": [
       "1.7010507252362679"
      ]
     },
     "execution_count": 7,
     "metadata": {},
     "output_type": "execute_result"
    }
   ],
   "source": [
    "\"\"\"\n",
    "Benchmark test:\n",
    "Black76('c', fs=19, x=19, t=0.75, r=0.10, v=0.28) = 1.70105072524\n",
    "\"\"\"\n",
    "c.option_price(\n",
    "    option_type='C', x=19, fs=19, t=0.75, b=0., r=0.1, v=0.28\n",
    ")"
   ]
  },
  {
   "cell_type": "code",
   "execution_count": 8,
   "id": "cf6c853e",
   "metadata": {},
   "outputs": [
    {
     "data": {
      "text/plain": [
       "{'DELTA': 0.5086362359336519,\n",
       " 'GAMMA': 0.07974503467912114,\n",
       " 'THETA': -0.9583828622275525,\n",
       " 'VEGA': 6.045471079024174,\n",
       " 'RHO': 5.972278318127339}"
      ]
     },
     "execution_count": 8,
     "metadata": {},
     "output_type": "execute_result"
    }
   ],
   "source": [
    "c.option_greeks(\n",
    "    option_type='C', x=19, fs=19, t=0.75, b=0., r=0.1, v=0.28\n",
    ")"
   ]
  },
  {
   "cell_type": "markdown",
   "id": "62fecfe7",
   "metadata": {},
   "source": [
    "We can use the `env_variables` endpoint to view available system settings\n",
    "\n",
    "The `tweak_env` endpoint allows tweaking for the environment `TRADE_DATE` to allow for time travel"
   ]
  },
  {
   "cell_type": "code",
   "execution_count": 9,
   "id": "8cf5b005",
   "metadata": {},
   "outputs": [
    {
     "data": {
      "text/plain": [
       "{'MARKET_DATA_PATH': 'C:\\\\Users\\\\magicmonk\\\\PycharmProjects\\\\shell\\\\data',\n",
       " 'MARKET_DATE': 'Fri, 09 Dec 2022 00:00:00 GMT',\n",
       " 'REST_API_URL': 'http://127.0.0.1:5000',\n",
       " 'ROOT_PATH': 'C:\\\\Users\\\\magicmonk\\\\PycharmProjects\\\\shell',\n",
       " 'TRADE_DATE': 'Thu, 01 Dec 2022 00:00:00 GMT'}"
      ]
     },
     "execution_count": 9,
     "metadata": {},
     "output_type": "execute_result"
    }
   ],
   "source": [
    "c.env_variables()"
   ]
  },
  {
   "cell_type": "code",
   "execution_count": 10,
   "id": "cfd93685",
   "metadata": {},
   "outputs": [
    {
     "data": {
      "text/plain": [
       "'Env tweaked successful for key=TRADE_DATE, value=2022-12-01'"
      ]
     },
     "execution_count": 10,
     "metadata": {},
     "output_type": "execute_result"
    }
   ],
   "source": [
    "import datetime as dt\n",
    "\n",
    "c.tweak_env('TRADE_DATE', dt.date(day=1, month=12, year=2022))"
   ]
  },
  {
   "cell_type": "code",
   "execution_count": 11,
   "id": "bd626286",
   "metadata": {},
   "outputs": [
    {
     "data": {
      "text/plain": [
       "{'MARKET_DATA_PATH': 'C:\\\\Users\\\\magicmonk\\\\PycharmProjects\\\\shell\\\\data',\n",
       " 'MARKET_DATE': 'Fri, 09 Dec 2022 00:00:00 GMT',\n",
       " 'REST_API_URL': 'http://127.0.0.1:5000',\n",
       " 'ROOT_PATH': 'C:\\\\Users\\\\magicmonk\\\\PycharmProjects\\\\shell',\n",
       " 'TRADE_DATE': 'Thu, 01 Dec 2022 00:00:00 GMT'}"
      ]
     },
     "execution_count": 11,
     "metadata": {},
     "output_type": "execute_result"
    }
   ],
   "source": [
    "c.env_variables()"
   ]
  },
  {
   "cell_type": "code",
   "execution_count": 12,
   "id": "b20cc41f",
   "metadata": {},
   "outputs": [
    {
     "data": {
      "text/plain": [
       "8.652043311547885"
      ]
     },
     "execution_count": 12,
     "metadata": {},
     "output_type": "execute_result"
    }
   ],
   "source": [
    "# BRENT Jan25 Call Strike 100 USD/BBL\n",
    "c.commodity_option_price(\n",
    "    contract='BRENT',\n",
    "    exchange_code='ICE', # Can be removed to allow use of system default exchange code\n",
    "    month='JAN',\n",
    "    year='2025',\n",
    "    option_type='C',\n",
    "    strike=100,\n",
    "    lot_price=False # By default this is set to False, so can omit\n",
    ")"
   ]
  },
  {
   "cell_type": "code",
   "execution_count": null,
   "id": "896130d1",
   "metadata": {},
   "outputs": [],
   "source": []
  },
  {
   "cell_type": "code",
   "execution_count": null,
   "id": "b83ad206",
   "metadata": {},
   "outputs": [],
   "source": []
  },
  {
   "cell_type": "code",
   "execution_count": null,
   "id": "e1fc3078",
   "metadata": {},
   "outputs": [],
   "source": []
  }
 ],
 "metadata": {
  "kernelspec": {
   "display_name": "shell",
   "language": "python",
   "name": "shell"
  },
  "language_info": {
   "codemirror_mode": {
    "name": "ipython",
    "version": 3
   },
   "file_extension": ".py",
   "mimetype": "text/x-python",
   "name": "python",
   "nbconvert_exporter": "python",
   "pygments_lexer": "ipython3",
   "version": "3.9.15"
  }
 },
 "nbformat": 4,
 "nbformat_minor": 5
}
